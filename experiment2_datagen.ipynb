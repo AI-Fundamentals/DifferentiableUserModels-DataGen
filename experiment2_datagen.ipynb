{
 "cells": [
  {
   "cell_type": "code",
   "execution_count": 1,
   "id": "63063747-6eb3-43e7-8111-28392e672c6e",
   "metadata": {},
   "outputs": [],
   "source": [
    "using ArgParse\n",
    "using BSON\n",
    "using Distributions\n",
    "using Flux\n",
    "using Stheno\n",
    "using Tracker\n",
    "#using CUDA\n"
   ]
  },
  {
   "cell_type": "code",
   "execution_count": 5,
   "id": "d84537e7-d05d-4a82-8ce4-49e70b353218",
   "metadata": {},
   "outputs": [
    {
     "name": "stderr",
     "output_type": "stream",
     "text": [
      "WARNING: replacing module NeuralProcesses.\n",
      "\u001b[33m\u001b[1m┌ \u001b[22m\u001b[39m\u001b[33m\u001b[1mWarning: \u001b[22m\u001b[39mReplacing docs for `Main.NeuralProcesses.Categorical :: Union{}` in module `Main.NeuralProcesses`\n",
      "\u001b[33m\u001b[1m└ \u001b[22m\u001b[39m\u001b[90m@ Base.Docs docs/Docs.jl:240\u001b[39m\n"
     ]
    }
   ],
   "source": [
    "\n",
    "include(\"NeuralProcesses.jl/src/NeuralProcesses.jl\")\n",
    "using .NeuralProcesses\n"
   ]
  },
  {
   "cell_type": "code",
   "execution_count": null,
   "id": "4f3251e1-f348-4263-97d6-a73223f1b396",
   "metadata": {},
   "outputs": [],
   "source": [
    "\n",
    "# parser = ArgParseSettings()\n",
    "# @add_arg_table! parser begin\n",
    "#     \"--gen\"\n",
    "#         help = \"Experiment setting: gridworld, menu_search, h_menu_search\"\n",
    "#         arg_type = String\n",
    "#         default = \"menu_search\"\n",
    "#     \"--n_traj\"\n",
    "#         help = \"Number of context trajectories. Setting to 0 randomizes between 1 and 8.\"\n",
    "#         arg_type = Int\n",
    "#         default = 0\n",
    "#     \"--n_epochs\"\n",
    "#         help = \"Number of training epochs.\"\n",
    "#         arg_type = Int\n",
    "#         default = 50\n",
    "#     \"--n_batches\"\n",
    "#         help = \"Number of batches.\"\n",
    "#         arg_type = Int\n",
    "#         default = 25\n",
    "#     \"--batch_size\"\n",
    "#         help = \"Batch size.\"\n",
    "#         arg_type = Int\n",
    "#         default = 4\n",
    "#     \"--params\"\n",
    "#         help = \"Return params?\"\n",
    "#         arg_type = Bool\n",
    "#         default = false\n",
    "#     \"--p_bias\"\n",
    "#         help = \"Probability of generating a sample with biased model\"\n",
    "#         arg_type = Float64\n",
    "#         default = 0.0\n",
    "#     \"--bson\"\n",
    "#         help = \"Directly specify the file to save the model to and load it from.\"\n",
    "#         arg_type = String\n",
    "#     \"--epsilon\"\n",
    "#         help = \"Value for epsilon.\"\n",
    "#         arg_type = Float64\n",
    "# end\n",
    "# args = parse_args(parser)"
   ]
  },
  {
   "cell_type": "code",
   "execution_count": 12,
   "id": "d4855248-26f0-41dd-ad0e-3ecad93967c4",
   "metadata": {},
   "outputs": [
    {
     "data": {
      "text/plain": [
       "Dict{String, Any} with 9 entries:\n",
       "  \"p_bias\"     => 0.0\n",
       "  \"bson\"       => \"\"\n",
       "  \"gen\"        => \"menu_search\"\n",
       "  \"epsilon\"    => 0.0\n",
       "  \"batch_size\" => 4\n",
       "  \"n_epochs\"   => 50\n",
       "  \"n_batches\"  => 25\n",
       "  \"params\"     => false\n",
       "  \"n_traj\"     => 0"
      ]
     },
     "execution_count": 12,
     "metadata": {},
     "output_type": "execute_result"
    }
   ],
   "source": [
    "function get_default_args()\n",
    "    defaults = Dict(\n",
    "        \"gen\" => \"menu_search\",\n",
    "        \"n_traj\" => 0,\n",
    "        \"n_epochs\" => 50,\n",
    "        \"n_batches\" => 25,\n",
    "        \"batch_size\" => 4,\n",
    "        \"params\" => false,\n",
    "        \"p_bias\" => 0.0,\n",
    "        \"bson\" => \"\",\n",
    "        \"epsilon\" => 0.0\n",
    "    )\n",
    "    return defaults\n",
    "end\n",
    "\n",
    "args = get_default_args()"
   ]
  },
  {
   "cell_type": "code",
   "execution_count": 7,
   "id": "6e459a34-1815-4129-9068-c84d78ca0da4",
   "metadata": {},
   "outputs": [
    {
     "name": "stdout",
     "output_type": "stream",
     "text": [
      "Initializing model...\n"
     ]
    },
    {
     "name": "stderr",
     "output_type": "stream",
     "text": [
      "\u001b[36m\u001b[1m┌ \u001b[22m\u001b[39m\u001b[36m\u001b[1mInfo: \u001b[22m\u001b[39mThe GPU function is being called but the GPU is not accessible. \n",
      "\u001b[36m\u001b[1m└ \u001b[22m\u001b[39mDefaulting back to the CPU. (No action is required if you want to run on the CPU).\n"
     ]
    },
    {
     "data": {
      "text/plain": [
       "Model(Main.NeuralProcesses.Parallel{3}(Chain[Chain(InputsCoder(), DeterministicLikelihood()), Chain(Main.NeuralProcesses.Attention(Chain(Main.NeuralProcesses.BatchedMLP(Chain(Dense(17, 128, #84), Dense(128, 128, #84), Dense(128, 128, #84), Dense(128, 128, #84), Dense(128, 128, #84), Dense(128, 128)), 128), #117), Chain(Main.NeuralProcesses.BatchedMLP(Chain(Dense(26, 128, #84), Dense(128, 128, #84), Dense(128, 128, #84), Dense(128, 128, #84), Dense(128, 128, #84), Dense(128, 128)), 128), #118), Chain(_compress_channels, Main.NeuralProcesses.BatchedMLP(Chain(Dense(128, 128)), 128)), Main.NeuralProcesses.Transformer(Chain(_compress_channels, Main.NeuralProcesses.BatchedMLP(Chain(Dense(128, 128)), 128)), Main.NeuralProcesses.LayerNorm(Float32[1.0 1.0 … 1.0 1.0], Float32[0.0 0.0 … 0.0 0.0], (2,)), Main.NeuralProcesses.BatchedMLP(Chain(Dense(128, 128, #84), Dense(128, 128)), 128), Main.NeuralProcesses.LayerNorm(Float32[1.0 1.0 … 1.0 1.0], Float32[0.0 0.0 … 0.0 0.0], (2,)))), DeterministicLikelihood()), Chain(MLPCoder(Main.NeuralProcesses.BatchedMLP(Chain(Dense(26, 128, #84), Dense(128, 128, #84), Dense(128, 128, #84), Dense(128, 128, #84), Dense(128, 128, #84), Dense(128, 128)), 128), Main.NeuralProcesses.BatchedMLP(Chain(Dense(128, 128, #84), Dense(128, 128, #84), Dense(128, 128, #84), Dense(128, 128, #84), Dense(128, 128, #84), Dense(128, 256)), 256)), HeterogeneousGaussianLikelihood(2))]), Chain(Main.NeuralProcesses.Materialise(Main.NeuralProcesses.var\"#165#167\"(), Main.NeuralProcesses.var\"#166#168\"()), Main.NeuralProcesses.BatchedMLP(Chain(Dense(273, 128, #84), Dense(128, 128, #84), Dense(128, 128, #84), Dense(128, 128, #84), Dense(128, 128, #84), Dense(128, 9)), 9), Chain(identity, SoftmaxLikelihood(4))))"
      ]
     },
     "execution_count": 7,
     "metadata": {},
     "output_type": "execute_result"
    }
   ],
   "source": [
    "# println(\"Initializing model...\")\n",
    "\n",
    "# model = anp_ex2(\n",
    "#     dim_embedding=128,\n",
    "#     num_encoder_heads=8,\n",
    "#     num_encoder_layers=6,\n",
    "#     num_decoder_layers=6,\n",
    "#     args=args\n",
    "# ) |> gpu\n"
   ]
  },
  {
   "cell_type": "code",
   "execution_count": 8,
   "id": "94735e4c-93cc-4ce1-bb2d-830288291217",
   "metadata": {},
   "outputs": [
    {
     "name": "stdout",
     "output_type": "stream",
     "text": [
      "Initializing loss...\n"
     ]
    },
    {
     "data": {
      "text/plain": [
       "loss (generic function with 1 method)"
      ]
     },
     "execution_count": 8,
     "metadata": {},
     "output_type": "execute_result"
    }
   ],
   "source": [
    "# println(\"Initializing loss...\")\n",
    "\n",
    "# loss(xs...) = np_elbo(\n",
    "#     xs...,\n",
    "#     num_samples=5,\n",
    "#     fixed_σ_epochs=3\n",
    "# )"
   ]
  },
  {
   "cell_type": "code",
   "execution_count": 9,
   "id": "f7ecbf38-829d-4cc3-ad23-5f97e0b7c579",
   "metadata": {},
   "outputs": [
    {
     "data": {
      "text/plain": [
       "DataGenerator(SearchEnvSampler(Dict{String, Any}(\"p_bias\" => 0.0, \"bson\" => \"\", \"gen\" => \"menu_search\", \"batch_size\" => 4, \"params\" => false, \"n_traj\" => 0), Beta{Float64}(α=3.0, β=1.35), Truncated(Normal{Float64}(μ=3.0, σ=1.0); lower=0.0, upper=5.0), Truncated(Normal{Float64}(μ=0.3, σ=0.3); lower=0.0, upper=1.0)), 4, Uniform{Float64}(a=-2.0, b=2.0), Uniform{Float64}(a=-2.0, b=2.0), DiscreteUniform(a=10, b=10), DiscreteUniform(a=10, b=10), 1.0e-8)"
      ]
     },
     "execution_count": 9,
     "metadata": {},
     "output_type": "execute_result"
    }
   ],
   "source": [
    "batch_size  = args[\"batch_size\"]\n",
    "\n",
    "# Redundant. Required to fit the DataGenerator definition\n",
    "x_context = Distributions.Uniform(-2, 2)\n",
    "x_target  = Distributions.Uniform(-2, 2)\n",
    "\n",
    "num_context = Distributions.DiscreteUniform(10, 10)\n",
    "num_target  = Distributions.DiscreteUniform(10, 10)\n",
    "\n",
    "data_gen = NeuralProcesses.DataGenerator(\n",
    "                SearchEnvSampler(args;),\n",
    "                batch_size=batch_size,\n",
    "                x_context=x_context,\n",
    "                x_target=x_target,\n",
    "                num_context=num_context,\n",
    "                num_target=num_target,\n",
    "                σ²=1e-8\n",
    "            )"
   ]
  },
  {
   "cell_type": "code",
   "execution_count": 10,
   "id": "a08e0bd2-89b3-4885-9ead-bf30ae4b47a3",
   "metadata": {},
   "outputs": [
    {
     "data": {
      "text/plain": [
       "1-element Vector{Vector{Array{Float32, 3}}}:\n",
       " [[0.0 0.0 … 0.0 8.0; 2.0 2.0 … 2.0 4.0; … ; -1.0 -1.0 … -1.0 -1.0; 0.0 0.0 … 0.0 8.0]\n",
       "\n",
       "[0.0 0.0 … 0.0 8.0; 3.0 2.0 … 2.0 4.0; … ; -1.0 -1.0 … -1.0 -1.0; 0.0 0.0 … 0.0 8.0]\n",
       "\n",
       "[0.0 0.0 … 0.0 8.0; 1.0 1.0 … 1.0 4.0; … ; -1.0 -1.0 … -1.0 -1.0; 0.0 0.0 … 0.0 8.0]\n",
       "\n",
       "...\n",
       "\n",
       "[0.0 0.0 … 0.0 8.0; 2.0 2.0 … 2.0 4.0; … ; -1.0 -1.0 … -1.0 -1.0; 0.0 0.0 … 0.0 8.0]\n",
       "\n",
       "[0.0 0.0 … 0.0 8.0; 2.0 2.0 … 2.0 4.0; … ; -1.0 -1.0 … -1.0 -1.0; 0.0 0.0 … 0.0 8.0]\n",
       "\n",
       "[0.0 0.0 … 0.0 8.0; 0.0 0.0 … 0.0 4.0; … ; -1.0 -1.0 … -1.0 -1.0; 0.0 0.0 … 0.0 8.0], [0.0 0.0 … 0.0 0.0; 0.0 1.0 … 0.0 0.0; … ; 0.0 0.0 … 0.0 0.0; 0.0 0.0 … 1.0 0.0]\n",
       "\n",
       "[0.0 0.0 … 0.0 0.0; 0.0 0.0 … 0.0 0.0; … ; 0.0 0.0 … 0.0 0.0; 0.0 0.0 … 1.0 0.0]\n",
       "\n",
       "[0.0 1.0 … 0.0 0.0; 0.0 0.0 … 0.0 0.0; … ; 0.0 0.0 … 0.0 0.0; 0.0 0.0 … 1.0 0.0]\n",
       "\n",
       "...\n",
       "\n",
       "[0.0 0.0 … 0.0 0.0; 0.0 0.0 … 0.0 0.0; … ; 0.0 0.0 … 0.0 0.0; 0.0 0.0 … 1.0 0.0]\n",
       "\n",
       "[0.0 0.0 … 0.0 0.0; 0.0 0.0 … 0.0 0.0; … ; 0.0 0.0 … 0.0 0.0; 0.0 0.0 … 1.0 0.0]\n",
       "\n",
       "[0.0 0.0 … 0.0 0.0; 0.0 1.0 … 0.0 0.0; … ; 0.0 0.0 … 0.0 0.0; 0.0 0.0 … 1.0 0.0], [0.0 0.0 … 0.0 4.0; 0.0 0.0 … 0.0 5.0; -1.0 -1.0 … -1.0 -1.0; -1.0 -1.0 … -1.0 -1.0]\n",
       "\n",
       "[0.0 0.0 … 0.0 4.0; 0.0 0.0 … 0.0 5.0; -1.0 -1.0 … -1.0 -1.0; -1.0 -1.0 … -1.0 -1.0]\n",
       "\n",
       "[0.0 0.0 … 0.0 4.0; 0.0 0.0 … 0.0 5.0; -1.0 -1.0 … -1.0 -1.0; -1.0 -1.0 … -1.0 -1.0]\n",
       "\n",
       "...\n",
       "\n",
       "[4.0 2.0 … 1.0 4.0; -1.0 -1.0 … -1.0 -1.0; -1.0 -1.0 … -1.0 -1.0; -1.0 -1.0 … -1.0 -1.0]\n",
       "\n",
       "[4.0 2.0 … 1.0 4.0; -1.0 -1.0 … -1.0 -1.0; -1.0 -1.0 … -1.0 -1.0; -1.0 -1.0 … -1.0 -1.0]\n",
       "\n",
       "[4.0 2.0 … 1.0 4.0; -1.0 -1.0 … -1.0 -1.0; -1.0 -1.0 … -1.0 -1.0; -1.0 -1.0 … -1.0 -1.0], [0.0 1.0 0.0 0.0; 0.0 0.0 0.0 0.0; … ; 0.0 0.0 0.0 0.0; 0.0 0.0 1.0 1.0]\n",
       "\n",
       "[0.0 1.0 0.0 0.0; 0.0 0.0 0.0 0.0; … ; 0.0 0.0 0.0 0.0; 0.0 0.0 1.0 1.0]\n",
       "\n",
       "[0.0 1.0 0.0 0.0; 0.0 0.0 0.0 0.0; … ; 0.0 0.0 0.0 0.0; 0.0 0.0 1.0 1.0]\n",
       "\n",
       "...\n",
       "\n",
       "[0.0 0.0 0.0 0.0; 0.0 0.0 0.0 0.0; … ; 1.0 0.0 0.0 0.0; 0.0 1.0 1.0 1.0]\n",
       "\n",
       "[0.0 0.0 0.0 0.0; 0.0 0.0 0.0 0.0; … ; 1.0 0.0 0.0 0.0; 0.0 1.0 1.0 1.0]\n",
       "\n",
       "[0.0 0.0 0.0 0.0; 0.0 0.0 0.0 0.0; … ; 1.0 0.0 0.0 0.0; 0.0 1.0 1.0 1.0]]"
      ]
     },
     "execution_count": 10,
     "metadata": {},
     "output_type": "execute_result"
    }
   ],
   "source": [
    "data = gen_batch(data_gen,1)"
   ]
  },
  {
   "cell_type": "code",
   "execution_count": 13,
   "id": "b6c4ab61-4851-4579-a98a-71fec00a4d44",
   "metadata": {},
   "outputs": [
    {
     "name": "stdout",
     "output_type": "stream",
     "text": [
      "Proceeding to training loop...\n"
     ]
    },
    {
     "ename": "LoadError",
     "evalue": "UndefVarError: CUDA not defined",
     "output_type": "error",
     "traceback": [
      "UndefVarError: CUDA not defined",
      "",
      "Stacktrace:",
      " [1] train_model!(model::Model, loss::typeof(loss), data_gen::DataGenerator, opt::ADAM; bson::String, experiment::String, starting_epoch::Int64, batches::Int64, tasks_per_epoch::Int64, total_epochs::Int64, epsilon::Float64)",
      "   @ Main.NeuralProcesses ~/github/DifferentiablyPrivateProbabilisticUserModeling/src/train.jl:122",
      " [2] top-level scope",
      "   @ In[13]:5"
     ]
    }
   ],
   "source": [
    "# println(\"Proceeding to training loop...\")\n",
    "\n",
    "# mkpath(\"models/\"*string(args[\"bson\"]))\n",
    "\n",
    "# train_model!(\n",
    "#         model,\n",
    "#         loss,\n",
    "#         data_gen,\n",
    "#         ADAM(5e-4),\n",
    "#         bson=args[\"bson\"],\n",
    "# \texperiment=args[\"gen\"],\n",
    "#         starting_epoch=0,\n",
    "#         tasks_per_epoch=2^5,\n",
    "#         batches=args[\"n_batches\"],\n",
    "# \ttotal_epochs=args[\"n_epochs\"],\n",
    "#         epsilon=args[\"epsilon\"]\n",
    "#     )"
   ]
  }
 ],
 "metadata": {
  "kernelspec": {
   "display_name": "Julia 1.6.7",
   "language": "julia",
   "name": "julia-1.6"
  },
  "language_info": {
   "file_extension": ".jl",
   "mimetype": "application/julia",
   "name": "julia",
   "version": "1.6.7"
  }
 },
 "nbformat": 4,
 "nbformat_minor": 5
}
